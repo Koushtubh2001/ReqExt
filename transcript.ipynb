{
 "cells": [
  {
   "cell_type": "markdown",
   "id": "89bbc4d0",
   "metadata": {},
   "source": [
    "### Extract Data From Calls & Video Transcripts/Interviews\n",
    "\n",
    "There is a lot of spoke word out there. Podcasts, interviews, sales calls, phone calls.\n",
    "\n",
    "It is extremely useful to be able to extract this information and create value with it. We're going to run through an example focusing on the B2B sales use case.\n",
    "\n",
    "**Small plug:** This is a mini-preview on how I built [Thimble](https://thimbleai.com/) which helps Account Executives pull information from their sales calls. Sign up at https://thimbleai.com/ if you want to check it out or here's the [demo video](https://youtu.be/DIw4rbpI9ic) or see more information on [Twitter](https://twitter.com/GregKamradt)\n",
    "\n",
    "Plug over, Let's learn! 😈\n",
    "\n",
    "Through building Thimble I've learned a few tricks to make working with transcripts easier:\n",
    "1. **Name/Role -** Put the name of each person before their sentence. Bonus points if you have their role/company included too. Example: Greg (Marin Transitions): Hey! How's it going?\n",
    "2. **System instructions -** Be specific with your system prompt about the role you need you bot to play\n",
    "3. **Only pull from the call -** Emphasize not to make anything up\n",
    "4. **Don't make the user prompt -** Abstract away any user prompting necessary with key:value pairs\n",
    "\n",
    "First let's import our packages"
   ]
  },
  {
   "cell_type": "code",
   "execution_count": 4,
   "id": "37dedf37",
   "metadata": {
    "hide_input": false
   },
   "outputs": [
    {
     "data": {
      "text/html": [
       "<style>.container { width:90% !important; }</style>"
      ],
      "text/plain": [
       "<IPython.core.display.HTML object>"
      ]
     },
     "metadata": {},
     "output_type": "display_data"
    }
   ],
   "source": [
    "# To get environment variables\n",
    "import os\n",
    "\n",
    "# Make the display a bit wider\n",
    "from IPython.display import display, HTML\n",
    "display(HTML(\"<style>.container { width:90% !important; }</style>\"))\n",
    "\n",
    "# To split our transcript into pieces\n",
    "from langchain.text_splitter import RecursiveCharacterTextSplitter\n",
    "\n",
    "# Our chat model. We'll use the default which is gpt-3.5-turbo\n",
    "from langchain.chat_models import ChatOpenAI\n",
    "from langchain.chains.summarize import load_summarize_chain\n",
    "\n",
    "# Prompt templates for dynamic values\n",
    "from langchain.prompts.chat import (\n",
    "    ChatPromptTemplate,\n",
    "    SystemMessagePromptTemplate,\n",
    "    AIMessagePromptTemplate, # I included this one so you know you'll have it but we won't be using it\n",
    "    HumanMessagePromptTemplate\n",
    ")\n",
    "\n",
    "# To create our chat messages\n",
    "from langchain.schema import (\n",
    "    AIMessage,\n",
    "    HumanMessage,\n",
    "    SystemMessage\n",
    ")"
   ]
  },
  {
   "cell_type": "code",
   "execution_count": 5,
   "id": "9cae352a",
   "metadata": {
    "hide_input": false
   },
   "outputs": [],
   "source": [
    "os.environ['GROQ_API_KEY'] = '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'"
   ]
  },
  {
   "cell_type": "markdown",
   "id": "aacd8f98",
   "metadata": {},
   "source": [
    "Then let's load up our data. This is already a formatted transcript of a mock sales call. 70% of the hard part is getting clean data. Don't under estimate the reward you get for cleaning up your data first!"
   ]
  },
  {
   "cell_type": "code",
   "execution_count": 6,
   "id": "1f13dda0",
   "metadata": {},
   "outputs": [],
   "source": [
    "with open('transcript.txt', 'r') as file:\n",
    "    content = file.read()"
   ]
  },
  {
   "cell_type": "code",
   "execution_count": 7,
   "id": "32b146c6",
   "metadata": {},
   "outputs": [
    {
     "name": "stdout",
     "output_type": "stream",
     "text": [
      "Transcript:\n",
      "\n",
      "**Client:** Hi there, thanks for meeting with me today. I'm looking to get a new website developed for my business. \n",
      "\n",
      "**Web Developer:** Hi! It's my pleasure. I'm excited to hear about your project. Could you tell m\n"
     ]
    }
   ],
   "source": [
    "print (\"Transcript:\\n\")\n",
    "print(content[:215]) # Why 215? Because it cut off at a clean line"
   ]
  },
  {
   "cell_type": "markdown",
   "id": "8f6b6ceb",
   "metadata": {},
   "source": [
    "Split our documents so we don't run into token issues. Experiment with what chunk size words best for your use case"
   ]
  },
  {
   "cell_type": "code",
   "execution_count": 8,
   "id": "042b7d95",
   "metadata": {},
   "outputs": [],
   "source": [
    "text_splitter = RecursiveCharacterTextSplitter(separators=[\"\\n\\n\", \"\\n\"], chunk_size=2000, chunk_overlap=250)\n",
    "texts = text_splitter.create_documents([content])"
   ]
  },
  {
   "cell_type": "code",
   "execution_count": 9,
   "id": "f22c76e1",
   "metadata": {},
   "outputs": [
    {
     "name": "stdout",
     "output_type": "stream",
     "text": [
      "You have 3 texts\n"
     ]
    },
    {
     "data": {
      "text/plain": [
       "Document(page_content=\"**Client:** Hi there, thanks for meeting with me today. I'm looking to get a new website developed for my business. \\n\\n**Web Developer:** Hi! It's my pleasure. I'm excited to hear about your project. Could you tell me a bit about your business and what you're looking for in your new website?\\n\\n**Client:** Sure. I run a boutique travel agency that specializes in custom, luxury travel packages. We cater to high-end clients who are looking for personalized experiences. The current website we have is quite outdated and doesn't really convey the level of luxury and personalization we offer. I want something that feels more modern, elegant, and user-friendly.\\n\\n**Web Developer:** That sounds like an exciting project. To get a better understanding, can you describe some specific features or elements you want on the new site?\\n\\n**Client:** Absolutely. First off, I want a visually stunning homepage with high-quality images that immediately showcase the type of experiences we offer. It should have a sophisticated design, maybe with some subtle animations. We also need a section where clients can see sample itineraries, read about different destinations, and learn about our services.\\n\\n**Web Developer:** Great. So a strong visual appeal with high-quality imagery and animations. For the itineraries and destinations, are you thinking of a blog-style layout, or something more structured like a directory?\\n\\n**Client:** I think a structured directory would work better for us. Each destination should have its own page with detailed information, images, and maybe even client testimonials. Speaking of testimonials, I want a dedicated section for those as well, where we can showcase reviews and feedback from our clients.\\n\\n**Web Developer:** Got it. A directory for destinations with detailed pages and a separate section for testimonials. How about booking and inquiries? Do you want an integrated booking system, or will inquiries be handled through a contact form?\")"
      ]
     },
     "execution_count": 9,
     "metadata": {},
     "output_type": "execute_result"
    }
   ],
   "source": [
    "print (f\"You have {len(texts)} texts\")\n",
    "texts[0]"
   ]
  },
  {
   "cell_type": "code",
   "execution_count": 11,
   "id": "ab493ef0-63e2-4471-adfb-af52e7f5b54e",
   "metadata": {},
   "outputs": [],
   "source": [
    "from langchain_core.prompts import ChatPromptTemplate\n",
    "from langchain_groq import ChatGroq"
   ]
  },
  {
   "cell_type": "code",
   "execution_count": 12,
   "id": "d1415339",
   "metadata": {},
   "outputs": [],
   "source": [
    "# Your api key should be an environment variable, or else put it here\n",
    "# We are using a chat model in case you wanted to use gpt4\n",
    "llm = ChatGroq(temperature=0, model_name=\"llama3-70b-8192\")"
   ]
  },
  {
   "cell_type": "code",
   "execution_count": 29,
   "id": "b6933934",
   "metadata": {},
   "outputs": [],
   "source": [
    "template=\"\"\"\n",
    "\n",
    "You are a helpful assistant that helps to extract the requirements that are mentioned in the input.\n",
    "Your goal is to extract all the key requirements for the website development project. Categorize the requirements into sections such as Design, Features. If you don't know, say, \"I don't know\"\n",
    "Directly give the requirements in clear points and don't write any other thing.\n",
    "list the requirements without including the introductory line like \"Here are the requirements categorized into sections:\"\n",
    "dont use any special character or symbol in the output\n",
    "\n",
    "\n",
    "\"\"\"\n",
    "system_message_prompt = SystemMessagePromptTemplate.from_template(template)\n",
    "\n",
    "human_template=\"{text}\" # Simply just pass the text as a human message\n",
    "human_message_prompt = HumanMessagePromptTemplate.from_template(human_template)"
   ]
  },
  {
   "cell_type": "code",
   "execution_count": 30,
   "id": "05042a43",
   "metadata": {},
   "outputs": [],
   "source": [
    "chat_prompt = ChatPromptTemplate.from_messages(messages=[system_message_prompt, human_message_prompt])"
   ]
  },
  {
   "cell_type": "code",
   "execution_count": 31,
   "id": "a3daced9",
   "metadata": {},
   "outputs": [],
   "source": [
    "chain = chat_prompt | llm\n",
    "\n",
    "# Because we aren't specifying a combine prompt the default one will be used"
   ]
  },
  {
   "cell_type": "code",
   "execution_count": 32,
   "id": "d4ef0a5c",
   "metadata": {},
   "outputs": [],
   "source": [
    "output = chain.invoke({\n",
    "                    \"text\": texts,\n",
    "                   })"
   ]
  },
  {
   "cell_type": "code",
   "execution_count": 35,
   "id": "ca00b447",
   "metadata": {},
   "outputs": [
    {
     "name": "stdout",
     "output_type": "stream",
     "text": [
      "Design:\n",
      "modern and elegant design\n",
      "clean lines\n",
      "elegant typography\n",
      "minimalist design\n",
      "brand guidelines to be followed\n",
      "color palette and fonts as per brand guide\n",
      "high-quality images on homepage\n",
      "subtle animations on homepage\n",
      "visually stunning homepage\n",
      "\n",
      "Features:\n",
      "directory for destinations with detailed pages\n",
      "each destination page to have detailed information, images, and client testimonials\n",
      "dedicated section for client testimonials\n",
      "comprehensive contact form with fields for travel dates, destinations of interest, budget, and special requests\n",
      "integration with CRM system\n",
      "integration with email marketing tool\n",
      "links to social media profiles\n",
      "content management system for easy updates\n",
      "user-friendly CMS for updating content\n",
      "\n",
      "Functionality:\n",
      "booking and inquiries through contact form\n",
      "personalized consultations based on client preferences\n",
      "\n",
      "Technical:\n",
      "integration with CRM system\n",
      "integration with email marketing tool\n",
      "integration with social media platforms\n",
      "content management system for easy updates\n",
      "user-friendly CMS for updating content\n"
     ]
    }
   ],
   "source": [
    "print (output.content)"
   ]
  },
  {
   "cell_type": "code",
   "execution_count": 10,
   "id": "eb8bc0d5-2309-46b4-8ca7-5fd2eb515b79",
   "metadata": {},
   "outputs": [
    {
     "name": "stdout",
     "output_type": "stream",
     "text": [
      "Collecting langchain-groq\n",
      "  Downloading langchain_groq-0.1.4-py3-none-any.whl (11 kB)\n",
      "Collecting groq<1,>=0.4.1 (from langchain-groq)\n",
      "  Downloading groq-0.6.0-py3-none-any.whl (84 kB)\n",
      "                                              0.0/84.9 kB ? eta -:--:--\n",
      "     ---------------------------------------- 84.9/84.9 kB 5.0 MB/s eta 0:00:00\n",
      "Requirement already satisfied: langchain-core<0.3,>=0.1.45 in c:\\users\\koush\\appdata\\local\\programs\\python\\python311\\lib\\site-packages (from langchain-groq) (0.2.0)\n",
      "Requirement already satisfied: anyio<5,>=3.5.0 in c:\\users\\koush\\appdata\\local\\programs\\python\\python311\\lib\\site-packages (from groq<1,>=0.4.1->langchain-groq) (4.3.0)\n",
      "Collecting distro<2,>=1.7.0 (from groq<1,>=0.4.1->langchain-groq)\n",
      "  Downloading distro-1.9.0-py3-none-any.whl (20 kB)\n",
      "Requirement already satisfied: httpx<1,>=0.23.0 in c:\\users\\koush\\appdata\\local\\programs\\python\\python311\\lib\\site-packages (from groq<1,>=0.4.1->langchain-groq) (0.27.0)\n",
      "Requirement already satisfied: pydantic<3,>=1.9.0 in c:\\users\\koush\\appdata\\local\\programs\\python\\python311\\lib\\site-packages (from groq<1,>=0.4.1->langchain-groq) (2.7.1)\n",
      "Requirement already satisfied: sniffio in c:\\users\\koush\\appdata\\local\\programs\\python\\python311\\lib\\site-packages (from groq<1,>=0.4.1->langchain-groq) (1.3.1)\n",
      "Requirement already satisfied: typing-extensions<5,>=4.7 in c:\\users\\koush\\appdata\\local\\programs\\python\\python311\\lib\\site-packages (from groq<1,>=0.4.1->langchain-groq) (4.10.0)\n",
      "Requirement already satisfied: PyYAML>=5.3 in c:\\users\\koush\\appdata\\local\\programs\\python\\python311\\lib\\site-packages (from langchain-core<0.3,>=0.1.45->langchain-groq) (6.0.1)\n",
      "Requirement already satisfied: jsonpatch<2.0,>=1.33 in c:\\users\\koush\\appdata\\local\\programs\\python\\python311\\lib\\site-packages (from langchain-core<0.3,>=0.1.45->langchain-groq) (1.33)\n",
      "Requirement already satisfied: langsmith<0.2.0,>=0.1.0 in c:\\users\\koush\\appdata\\local\\programs\\python\\python311\\lib\\site-packages (from langchain-core<0.3,>=0.1.45->langchain-groq) (0.1.59)\n",
      "Requirement already satisfied: packaging<24.0,>=23.2 in c:\\users\\koush\\appdata\\local\\programs\\python\\python311\\lib\\site-packages (from langchain-core<0.3,>=0.1.45->langchain-groq) (23.2)\n",
      "Requirement already satisfied: tenacity<9.0.0,>=8.1.0 in c:\\users\\koush\\appdata\\local\\programs\\python\\python311\\lib\\site-packages (from langchain-core<0.3,>=0.1.45->langchain-groq) (8.2.3)\n",
      "Requirement already satisfied: idna>=2.8 in c:\\users\\koush\\appdata\\local\\programs\\python\\python311\\lib\\site-packages (from anyio<5,>=3.5.0->groq<1,>=0.4.1->langchain-groq) (3.6)\n",
      "Requirement already satisfied: certifi in c:\\users\\koush\\appdata\\local\\programs\\python\\python311\\lib\\site-packages (from httpx<1,>=0.23.0->groq<1,>=0.4.1->langchain-groq) (2024.2.2)\n",
      "Requirement already satisfied: httpcore==1.* in c:\\users\\koush\\appdata\\local\\programs\\python\\python311\\lib\\site-packages (from httpx<1,>=0.23.0->groq<1,>=0.4.1->langchain-groq) (1.0.4)\n",
      "Requirement already satisfied: h11<0.15,>=0.13 in c:\\users\\koush\\appdata\\local\\programs\\python\\python311\\lib\\site-packages (from httpcore==1.*->httpx<1,>=0.23.0->groq<1,>=0.4.1->langchain-groq) (0.14.0)\n",
      "Requirement already satisfied: jsonpointer>=1.9 in c:\\users\\koush\\appdata\\local\\programs\\python\\python311\\lib\\site-packages (from jsonpatch<2.0,>=1.33->langchain-core<0.3,>=0.1.45->langchain-groq) (2.4)\n",
      "Requirement already satisfied: orjson<4.0.0,>=3.9.14 in c:\\users\\koush\\appdata\\local\\programs\\python\\python311\\lib\\site-packages (from langsmith<0.2.0,>=0.1.0->langchain-core<0.3,>=0.1.45->langchain-groq) (3.10.3)\n",
      "Requirement already satisfied: requests<3,>=2 in c:\\users\\koush\\appdata\\local\\programs\\python\\python311\\lib\\site-packages (from langsmith<0.2.0,>=0.1.0->langchain-core<0.3,>=0.1.45->langchain-groq) (2.31.0)\n",
      "Requirement already satisfied: annotated-types>=0.4.0 in c:\\users\\koush\\appdata\\local\\programs\\python\\python311\\lib\\site-packages (from pydantic<3,>=1.9.0->groq<1,>=0.4.1->langchain-groq) (0.6.0)\n",
      "Requirement already satisfied: pydantic-core==2.18.2 in c:\\users\\koush\\appdata\\local\\programs\\python\\python311\\lib\\site-packages (from pydantic<3,>=1.9.0->groq<1,>=0.4.1->langchain-groq) (2.18.2)\n",
      "Requirement already satisfied: charset-normalizer<4,>=2 in c:\\users\\koush\\appdata\\local\\programs\\python\\python311\\lib\\site-packages (from requests<3,>=2->langsmith<0.2.0,>=0.1.0->langchain-core<0.3,>=0.1.45->langchain-groq) (3.3.2)\n",
      "Requirement already satisfied: urllib3<3,>=1.21.1 in c:\\users\\koush\\appdata\\local\\programs\\python\\python311\\lib\\site-packages (from requests<3,>=2->langsmith<0.2.0,>=0.1.0->langchain-core<0.3,>=0.1.45->langchain-groq) (2.2.1)\n",
      "Installing collected packages: distro, groq, langchain-groq\n",
      "Successfully installed distro-1.9.0 groq-0.6.0 langchain-groq-0.1.4\n"
     ]
    },
    {
     "name": "stderr",
     "output_type": "stream",
     "text": [
      "\n",
      "[notice] A new release of pip is available: 23.1.2 -> 24.0\n",
      "[notice] To update, run: python.exe -m pip install --upgrade pip\n"
     ]
    }
   ],
   "source": [
    "!pip install langchain-groq"
   ]
  },
  {
   "cell_type": "markdown",
   "id": "04e44a1e",
   "metadata": {},
   "source": [
    "Awesome! Now we have a bullet point format without needing to have the user specify any additional information.\n",
    "\n",
    "If you wanted to productionize this you would need to add additional prompts to extract other information from the calls that may be helpful to a sales person. Example: Key Points + Next Steps from the call. You should also parallelize the map calls if you do the map reduce method.\n",
    "\n",
    "Have other ideas about how something like this could be used? Send me a tweet or DM on [Twitter](https://twitter.com/GregKamradt) or contact@dataindependent.com"
   ]
  }
 ],
 "metadata": {
  "kernelspec": {
   "display_name": "Python 3 (ipykernel)",
   "language": "python",
   "name": "python3"
  },
  "language_info": {
   "codemirror_mode": {
    "name": "ipython",
    "version": 3
   },
   "file_extension": ".py",
   "mimetype": "text/x-python",
   "name": "python",
   "nbconvert_exporter": "python",
   "pygments_lexer": "ipython3",
   "version": "3.11.4"
  }
 },
 "nbformat": 4,
 "nbformat_minor": 5
}
